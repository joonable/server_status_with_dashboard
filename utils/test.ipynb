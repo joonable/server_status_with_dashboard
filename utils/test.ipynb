{
 "cells": [
  {
   "cell_type": "code",
   "execution_count": 51,
   "metadata": {
    "collapsed": true
   },
   "outputs": [],
   "source": [
    "import requests\n",
    "url = \"http://218.237.121.225:9200/idx_searchlog_0604/_search?q=chanl_nm:esshop&size:1\"\n",
    "data = None\n",
    "# data = bytes(urllib.parse.urlencode(data).encode())\n",
    "response = requests.post(url=url, data=data)\n"
   ]
  },
  {
   "cell_type": "code",
   "execution_count": 53,
   "metadata": {},
   "outputs": [
    {
     "data": {
      "text/plain": [
       "'{\"took\":1,\"timed_out\":false,\"_shards\":{\"total\":4,\"successful\":4,\"failed\":0},\"hits\":{\"total\":0,\"max_score\":null,\"hits\":[]}}'"
      ]
     },
     "execution_count": 53,
     "metadata": {},
     "output_type": "execute_result"
    }
   ],
   "source": [
    "response.text"
   ]
  },
  {
   "cell_type": "code",
   "execution_count": 50,
   "metadata": {},
   "outputs": [
    {
     "ename": "TypeError",
     "evalue": "global_init() takes exactly 1 argument (0 given)",
     "traceback": [
      "\u001b[1;31m---------------------------------------------------------------------------\u001b[0m",
      "\u001b[1;31mTypeError\u001b[0m                                 Traceback (most recent call last)",
      "\u001b[1;32m<ipython-input-50-de5702b6f242>\u001b[0m in \u001b[0;36m<module>\u001b[1;34m()\u001b[0m\n\u001b[0;32m      1\u001b[0m \u001b[1;32mimport\u001b[0m \u001b[0mpycurl\u001b[0m\u001b[1;33m\u001b[0m\u001b[0m\n\u001b[1;32m----> 2\u001b[1;33m \u001b[0mc\u001b[0m \u001b[1;33m=\u001b[0m \u001b[0mpycurl\u001b[0m\u001b[1;33m.\u001b[0m\u001b[0mglobal_init\u001b[0m\u001b[1;33m(\u001b[0m\u001b[1;33m)\u001b[0m\u001b[1;33m\u001b[0m\u001b[0m\n\u001b[0m\u001b[0;32m      3\u001b[0m \u001b[1;33m\u001b[0m\u001b[0m\n",
      "\u001b[1;31mTypeError\u001b[0m: global_init() takes exactly 1 argument (0 given)"
     ],
     "output_type": "error"
    }
   ],
   "source": [
    "import pycurl\n",
    "c = pycurl.global_init()\n",
    "{\"fields\":[\"_parent\",\"_source\"],\"query\":{\"bool\":{\"must\":[],\"must_not\":[],\"should\":[{\"match_all\":{}}]}},\"from\":0,\"size\":50,\n",
    " \"sort\":[{\"_type\":{\"reverse\":false}}],\"facets\":{},\"version\":true}: \n"
   ]
  },
  {
   "cell_type": "code",
   "execution_count": 49,
   "metadata": {},
   "outputs": [
    {
     "data": {
      "text/plain": [
       "{'facets': {},\n 'fields': ['_parent', '_source'],\n 'from': 0,\n 'query': {'bool': {'must': [{'wildcard': {'chanl_nm': 'eshop*'}}],\n   'must_not': [],\n   'should': []}},\n 'size': 50,\n 'sort': [{'_type': {'reverse': None}}],\n 'version': None}"
      ]
     },
     "execution_count": 49,
     "metadata": {},
     "output_type": "execute_result"
    }
   ],
   "source": [
    "{\"fields\":[\"_parent\",\"_source\"],\"query\":{\"bool\":{\"must\":[{\"wildcard\":{\"chanl_nm\":\"eshop*\"}}],\"must_not\":[],\"should\":[]}},\"from\":0,\"size\":50,\"sort\":[{\"_type\":{\"reverse\": None}}],\"facets\":{},\"version\":None}"
   ]
  },
  {
   "cell_type": "code",
   "execution_count": 45,
   "metadata": {},
   "outputs": [
    {
     "data": {
      "text/plain": [
       "400"
      ]
     },
     "execution_count": 45,
     "metadata": {},
     "output_type": "execute_result"
    }
   ],
   "source": [
    "response.status_code"
   ]
  },
  {
   "cell_type": "code",
   "execution_count": 8,
   "metadata": {
    "collapsed": true
   },
   "outputs": [
    {
     "data": {
      "text/plain": [
       "{'facets': {},\n 'fields': ['_parent', '_source'],\n 'from': 0,\n 'query': {'bool': {'must': [{'wildcard': {'chanl_nm': 'eshop*'}}],\n   'must_not': [],\n   'should': []}},\n 'size': 50,\n 'sort': [{'_type': {'reverse': False}}],\n 'version': True}"
      ]
     },
     "execution_count": 8,
     "metadata": {},
     "output_type": "execute_result"
    }
   ],
   "source": [
    "{\"fields\":[\"_parent\",\"_source\"],\"query\":{\"bool\":{\"must\":[{\"wildcard\":{\"chanl_nm\":\"eshop*\"}}],\"must_not\":[],\"should\":[]}},\"from\":0,\"size\":50,\"sort\":[{\"_type\":{\"reverse\": None}}],\"facets\":{},\"version\":None}"
   ]
  },
  {
   "cell_type": "code",
   "execution_count": 61,
   "metadata": {
    "collapsed": true
   },
   "outputs": [
    {
     "data": {
      "text/plain": [
       "461684"
      ]
     },
     "execution_count": 61,
     "metadata": {},
     "output_type": "execute_result"
    }
   ],
   "source": [
    "import urllib.parse\n",
    "import urllib.request\n",
    "import json\n",
    "\n",
    "url = \"http://218.237.121.225:9200/idx_searchlog_0604/_search?q=chanl_nm:eshop&prettey=true&size=1\"\n",
    "# data = {\"fields\":[\"_parent\",\"_source\"],\"query\":{\"bool\":{\"must\":[{\"wildcard\":{\"chanl_nm\":\"mobile\"}}],\"must_not\":[],\"should\":[]}},\"from\":0,\"size\":50,\"sort\":[{\"_type\":{\"reverse\":False}}],\"facets\":{},\"version\":True}\n",
    "# data = bytes(urllib.parse.urlencode(data).encode())\n",
    "# data = None\n",
    "# req = urllib.request.Request(url, data=data)\n",
    "response = urllib.request.urlopen(url)\n",
    "\n",
    "result = json.loads(response.read().decode(\"utf-8\"))\n",
    "result['hits']['total']\n"
   ]
  },
  {
   "cell_type": "code",
   "execution_count": null,
   "metadata": {},
   "outputs": [],
   "source": [
    "from kazoo.client import KazooClient\n",
    "# \"218.237.121.128:2181\" \"218.237.121.225:2181\"\n",
    "zk = KazooClient(hosts=\"218.237.121.128:2181\", read_only=True)\n",
    "zk.start()\n",
    "gmas = len(zk.get_children('/home/gmas'))\n",
    "amas = len(zk.get_children('/home/amas'))\n",
    "zk.stop()\n",
    "zk.close()\n",
    "\n",
    "print(gmas, amas)"
   ]
  },
  {
   "cell_type": "code",
   "execution_count": 2,
   "metadata": {},
   "outputs": [
    {
     "name": "stdout",
     "output_type": "stream",
     "text": [
      "b\na\n"
     ]
    }
   ],
   "source": [
    "scraper_names = [\"a\", \"b\"]\n",
    "scraper_names = set(scraper_names)\n",
    "for x in scraper_names:\n",
    "    print(x)\n"
   ]
  },
  {
   "cell_type": "code",
   "execution_count": 5,
   "metadata": {},
   "outputs": [],
   "source": [
    "import json\n",
    "with open('./data/params.json', 'r') as json_file:\n",
    "    params = json.load(json_file)\n",
    "    \n",
    "scraper_names = [param[\"scraper_name\"] for job, param in params.items()]\n",
    "scraper_names = set(scraper_names)\n",
    "job_list = {scraper_name: [] for scraper_name in scraper_names}\n",
    "\n",
    "for job, value in params.items():\n",
    "    job_list[value['scraper_name']].append(job)\n"
   ]
  },
  {
   "cell_type": "code",
   "execution_count": 8,
   "metadata": {},
   "outputs": [],
   "source": [
    "import itertools\n",
    "from collections import Counter\n",
    "a = Counter(itertools.chain(*scraper_names))"
   ]
  },
  {
   "cell_type": "code",
   "execution_count": 9,
   "metadata": {},
   "outputs": [
    {
     "data": {
      "text/plain": [
       "Counter({'C': 1,\n         'E': 2,\n         'F': 1,\n         'I': 1,\n         'K': 1,\n         'R': 1,\n         'S': 2,\n         'Z': 1,\n         'a': 2,\n         'c': 1,\n         'd': 1,\n         'e': 2,\n         'g': 1,\n         'i': 1,\n         'k': 1,\n         'l': 1,\n         'n': 3,\n         'o': 1,\n         'r': 2,\n         's': 1,\n         't': 2,\n         'u': 1,\n         'x': 1})"
      ]
     },
     "execution_count": 9,
     "metadata": {},
     "output_type": "execute_result"
    }
   ],
   "source": [
    "a"
   ]
  },
  {
   "cell_type": "code",
   "execution_count": null,
   "metadata": {},
   "outputs": [],
   "source": []
  }
 ],
 "metadata": {
  "kernelspec": {
   "display_name": "Python 2",
   "language": "python",
   "name": "python2"
  },
  "language_info": {
   "codemirror_mode": {
    "name": "ipython",
    "version": 2
   },
   "file_extension": ".py",
   "mimetype": "text/x-python",
   "name": "python",
   "nbconvert_exporter": "python",
   "pygments_lexer": "ipython2",
   "version": "2.7.6"
  }
 },
 "nbformat": 4,
 "nbformat_minor": 0
}
